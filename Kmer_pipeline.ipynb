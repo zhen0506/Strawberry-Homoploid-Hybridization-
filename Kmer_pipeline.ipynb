{
 "cells": [
  {
   "cell_type": "code",
   "execution_count": null,
   "id": "bae0ff91-939c-4f72-8035-7cb64b5163b7",
   "metadata": {
    "tags": []
   },
   "outputs": [],
   "source": [
    "import os\n",
    "import csv\n",
    "import pandas as pd\n",
    "import re\n",
    "import matplotlib.pyplot as plt\n",
    "import subprocess\n",
    "import numpy as np\n",
    "%matplotlib inline\n",
    "%store -r"
   ]
  },
  {
   "cell_type": "code",
   "execution_count": null,
   "id": "8a5cbdf9-72f8-4fcb-b5fe-db59533c1772",
   "metadata": {
    "tags": []
   },
   "outputs": [],
   "source": [
    "from IPython.core.interactiveshell import InteractiveShell\n",
    "InteractiveShell.ast_node_interactivity = \"all\""
   ]
  },
  {
   "cell_type": "markdown",
   "id": "39cd135e-4fa2-4a8a-9b4d-31bf0ee81a54",
   "metadata": {
    "tags": []
   },
   "source": [
    "## convert KMC outputs to fasta files"
   ]
  },
  {
   "cell_type": "code",
   "execution_count": null,
   "id": "37b402d2-7f24-43b3-ae09-4884cde43198",
   "metadata": {},
   "outputs": [],
   "source": [
    "def faconv(x=\"\"):\n",
    "    data = []\n",
    "    with open(x) as fp:\n",
    "        r = csv.reader(fp, delimiter=\"\\t\")\n",
    "        for row in r:\n",
    "            data.append([row[0], int(row[1])])\n",
    "    df = pd.DataFrame(data)\n",
    "    df2= \">\"+pd.DataFrame(range(len(df))).astype(str)[0] + \"\\n\"+ df.iloc[:,0]\n",
    "    df2.to_csv(re.sub(\".txt\",\".fa\",x),header=False, index=False,quoting=csv.QUOTE_NONE,escapechar='_')"
   ]
  },
  {
   "cell_type": "code",
   "execution_count": null,
   "id": "dd7d1769-1243-40af-8b7e-6f9158b69b4a",
   "metadata": {
    "tags": []
   },
   "outputs": [],
   "source": [
    "faconv(\"../kmer_vir/sp_subA.txt\")\n",
    "faconv(\"../kmer_vir/sp_subB.txt\")\n",
    "faconv(\"../kmer_vir/sp_subC.txt\")\n",
    "faconv(\"../kmer_vir/sp_subD.txt\")\n",
    "faconv(\"../kmer_vir/hex_sp.txt\")\n",
    "faconv(\"../kmer_vir/tetra_sp1.txt\")"
   ]
  },
  {
   "cell_type": "code",
   "execution_count": null,
   "id": "504abf92-f4f5-4ef7-8332-8cae7fab2508",
   "metadata": {
    "tags": []
   },
   "outputs": [],
   "source": [
    "faconv(\"../kmer_rest/farr1/sp_subA.txt\")\n",
    "faconv(\"../kmer_rest/farr1/sp_subB.txt\")\n",
    "faconv(\"../kmer_rest/farr1/sp_subCa.txt\")\n",
    "faconv(\"../kmer_rest/farr1/sp_subCb.txt\")\n",
    "faconv(\"../kmer_rest/farr1/hex_sp.txt\")\n",
    "faconv(\"../kmer_rest/farr1/tetra_sp1.txt\")\n",
    "faconv(\"../kmer_rest/beauty/sp_subA.txt\")\n",
    "faconv(\"../kmer_rest/beauty/sp_subB.txt\")\n",
    "faconv(\"../kmer_rest/beauty/sp_subCa.txt\")\n",
    "faconv(\"../kmer_rest/beauty/sp_subCb.txt\")\n",
    "faconv(\"../kmer_rest/beauty/hex_sp.txt\")\n",
    "faconv(\"../kmer_rest/beauty/tetra_sp1.txt\")\n",
    "faconv(\"../kmer_rest/yanli/sp_subA.txt\")\n",
    "faconv(\"../kmer_rest/yanli/sp_subB.txt\")\n",
    "faconv(\"../kmer_rest/yanli/sp_subCa.txt\")\n",
    "faconv(\"../kmer_rest/yanli/sp_subCb.txt\")\n",
    "faconv(\"../kmer_rest/yanli/hex_sp.txt\")\n",
    "faconv(\"../kmer_rest/yanli/tetra_sp1.txt\")\n",
    "faconv(\"../kmer_rest/F12/sp_subA.txt\")\n",
    "faconv(\"../kmer_rest/F12/sp_subB.txt\")\n",
    "faconv(\"../kmer_rest/F12/sp_subCa.txt\")\n",
    "faconv(\"../kmer_rest/F12/sp_subCb.txt\")\n",
    "faconv(\"../kmer_rest/F12/hex_sp.txt\")\n",
    "faconv(\"../kmer_rest/F12/tetra_sp1.txt\")"
   ]
  },
  {
   "cell_type": "markdown",
   "id": "374a22d1-616e-4845-aeae-12e9e6967a2c",
   "metadata": {},
   "source": [
    "## RUN bowtie to align the reads"
   ]
  },
  {
   "cell_type": "code",
   "execution_count": null,
   "id": "eb84aa88-deed-48ba-a7e6-2caf2cd6b444",
   "metadata": {
    "tags": []
   },
   "outputs": [],
   "source": [
    "cmd = \"\"\"\n",
    "module load bowtie\n",
    "bowtie -S -v 0 -a ../Fvir -f ../kmer_vir/sp_subA.fa ../kmer_vir/sp_subA.sam\n",
    "bowtie -S -v 0 -a ../Fvir -f ../kmer_vir/sp_subB.fa ../kmer_vir/sp_subB.sam\n",
    "bowtie -S -v 0 -a ../Fvir -f ../kmer_vir/sp_subC.fa ../kmer_vir/sp_subC.sam\n",
    "bowtie -S -v 0 -a ../Fvir -f ../kmer_vir/sp_subD.fa ../kmer_vir/sp_subD.sam\n",
    "bowtie -S -v 0 -a ../Fvir -f ../kmer_vir/hex_sp.fa ../kmer_vir/hex_sp.sam\n",
    "bowtie -S -v 0 -a ../Fvir -f ../kmer_vir/tetra_sp1.fa ../kmer_vir/tetra_sp1.sam\n",
    "\"\"\""
   ]
  },
  {
   "cell_type": "code",
   "execution_count": null,
   "id": "8c73e4e8-c1ba-4af6-b217-571056291d48",
   "metadata": {
    "tags": []
   },
   "outputs": [],
   "source": [
    "cmd = \"\"\"\n",
    "module load bowtie\n",
    "bowtie -S -v 0 -a ../kmer_rest/farr1_db -f ../kmer_rest/farr1/sp_subA.fa ../kmer_rest/farr1/sp_subA.sam\n",
    "bowtie -S -v 0 -a ../kmer_rest/farr1_db -f ../kmer_rest/farr1/sp_subB.fa ../kmer_rest/farr1/sp_subB.sam\n",
    "bowtie -S -v 0 -a ../kmer_rest/farr1_db -f ../kmer_rest/farr1/sp_subCa.fa ../kmer_rest/farr1/sp_subCa.sam\n",
    "bowtie -S -v 0 -a ../kmer_rest/farr1_db -f ../kmer_rest/farr1/sp_subCb.fa ../kmer_rest/farr1/sp_subCb.sam\n",
    "bowtie -S -v 0 -a ../kmer_rest/farr1_db -f ../kmer_rest/farr1/hex_sp.fa ../kmer_rest/farr1/hex_sp.sam\n",
    "bowtie -S -v 0 -a ../kmer_rest/farr1_db -f ../kmer_rest/farr1/tetra_sp1.fa ../kmer_rest/farr1/tetra_sp1.sam\n",
    "\n",
    "bowtie -S -v 0 -a ../kmer_rest/Bea_db -f ../kmer_rest/beauty/sp_subA.fa ../kmer_rest/beauty/sp_subA.sam\n",
    "bowtie -S -v 0 -a ../kmer_rest/Bea_db -f ../kmer_rest/beauty/sp_subB.fa ../kmer_rest/beauty/sp_subB.sam\n",
    "bowtie -S -v 0 -a ../kmer_rest/Bea_db -f ../kmer_rest/beauty/sp_subCa.fa ../kmer_rest/beauty/sp_subCa.sam\n",
    "bowtie -S -v 0 -a ../kmer_rest/Bea_db -f ../kmer_rest/beauty/sp_subCb.fa ../kmer_rest/beauty/sp_subCb.sam\n",
    "bowtie -S -v 0 -a ../kmer_rest/Bea_db -f ../kmer_rest/beauty/hex_sp.fa ../kmer_rest/beauty/hex_sp.sam\n",
    "bowtie -S -v 0 -a ../kmer_rest/Bea_db -f ../kmer_rest/beauty/tetra_sp1.fa ../kmer_rest/beauty/tetra_sp1.sam\n",
    "\n",
    "bowtie -S -v 0 -a ../kmer_rest/Yanli_db -f ../kmer_rest/yanli/sp_subA.fa ../kmer_rest/yanli/sp_subA.sam\n",
    "bowtie -S -v 0 -a ../kmer_rest/Yanli_db -f ../kmer_rest/yanli/sp_subB.fa ../kmer_rest/yanli/sp_subB.sam\n",
    "bowtie -S -v 0 -a ../kmer_rest/Yanli_db -f ../kmer_rest/yanli/sp_subCa.fa ../kmer_rest/yanli/sp_subCa.sam\n",
    "bowtie -S -v 0 -a ../kmer_rest/Yanli_db -f ../kmer_rest/yanli/sp_subCb.fa ../kmer_rest/yanli/sp_subCb.sam\n",
    "bowtie -S -v 0 -a ../kmer_rest/Yanli_db -f ../kmer_rest/yanli/hex_sp.fa ../kmer_rest/yanli/hex_sp.sam\n",
    "bowtie -S -v 0 -a ../kmer_rest/Yanli_db -f ../kmer_rest/yanli/tetra_sp1.fa ../kmer_rest/yanli/tetra_sp1.sam\n",
    "\n",
    "bowtie -S -v 0 -a ../kmer_rest/F12_db -f ../kmer_rest/F12/sp_subA.fa ../kmer_rest/F12/sp_subA.sam\n",
    "bowtie -S -v 0 -a ../kmer_rest/F12_db -f ../kmer_rest/F12/sp_subB.fa ../kmer_rest/F12/sp_subB.sam\n",
    "bowtie -S -v 0 -a ../kmer_rest/F12_db -f ../kmer_rest/F12/sp_subCa.fa ../kmer_rest/F12/sp_subCa.sam\n",
    "bowtie -S -v 0 -a ../kmer_rest/F12_db -f ../kmer_rest/F12/sp_subCb.fa ../kmer_rest/F12/sp_subCb.sam\n",
    "bowtie -S -v 0 -a ../kmer_rest/F12_db -f ../kmer_rest/F12/hex_sp.fa ../kmer_rest/F12/hex_sp.sam\n",
    "bowtie -S -v 0 -a ../kmer_rest/F12_db -f ../kmer_rest/F12/tetra_sp1.fa ../kmer_rest/F12/tetra_sp1.sam\n",
    "\"\"\""
   ]
  },
  {
   "cell_type": "code",
   "execution_count": null,
   "id": "4fce01e5-5bd8-4d52-bc11-e7941a40d342",
   "metadata": {
    "tags": []
   },
   "outputs": [],
   "source": [
    "subprocess.run(cmd, shell=True)"
   ]
  },
  {
   "cell_type": "markdown",
   "id": "94694fa9-c476-4eac-93f6-e9b66efae878",
   "metadata": {},
   "source": [
    "## Sort sam files"
   ]
  },
  {
   "cell_type": "code",
   "execution_count": null,
   "id": "d0cd31ae-4f67-42a0-94ec-96d7f8deea95",
   "metadata": {
    "tags": []
   },
   "outputs": [],
   "source": [
    "cmd = \"\"\"\n",
    "module load samtools\n",
    "samtools sort ../kmer_rest/farr1/sp_subA.sam > ../kmer_rest/farr1/sp_subA.sort.sam\n",
    "samtools sort ../kmer_rest/farr1/sp_subB.sam > ../kmer_rest/farr1/sp_subB.sort.sam\n",
    "samtools sort ../kmer_rest/farr1/sp_subCa.sam > ../kmer_rest/farr1/sp_subCa.sort.sam\n",
    "samtools sort ../kmer_rest/farr1/sp_subCb.sam > ../kmer_rest/farr1/sp_subCb.sort.sam\n",
    "samtools sort ../kmer_rest/farr1/hex_sp.sam > ../kmer_rest/farr1/hex_sp.sort.sam\n",
    "samtools sort ../kmer_rest/farr1/tetra_sp1.sam > ../kmer_rest/farr1/tetra_sp1.sort.sam\n",
    "\n",
    "samtools sort ../kmer_rest/beauty/sp_subA.sam > ../kmer_rest/beauty/sp_subA.sort.sam\n",
    "samtools sort ../kmer_rest/beauty/sp_subB.sam > ../kmer_rest/beauty/sp_subB.sort.sam\n",
    "samtools sort ../kmer_rest/beauty/sp_subCa.sam > ../kmer_rest/beauty/sp_subCa.sort.sam\n",
    "samtools sort ../kmer_rest/beauty/sp_subCb.sam > ../kmer_rest/beauty/sp_subCb.sort.sam\n",
    "samtools sort ../kmer_rest/beauty/hex_sp.sam > ../kmer_rest/beauty/hex_sp.sort.sam\n",
    "samtools sort ../kmer_rest/beauty/tetra_sp1.sam > ../kmer_rest/beauty/tetra_sp1.sort.sam\n",
    "\n",
    "samtools sort ../kmer_rest/yanli/sp_subA.sam > ../kmer_rest/yanli/sp_subA.sort.sam\n",
    "samtools sort ../kmer_rest/yanli/sp_subB.sam > ../kmer_rest/yanli/sp_subB.sort.sam\n",
    "samtools sort ../kmer_rest/yanli/sp_subCa.sam > ../kmer_rest/yanli/sp_subCa.sort.sam\n",
    "samtools sort ../kmer_rest/yanli/sp_subCb.sam > ../kmer_rest/yanli/sp_subCb.sort.sam\n",
    "samtools sort ../kmer_rest/yanli/hex_sp.sam > ../kmer_rest/yanli/hex_sp.sort.sam\n",
    "samtools sort ../kmer_rest/yanli/tetra_sp1.sam > ../kmer_rest/yanli/tetra_sp1.sort.sam\n",
    "\n",
    "samtools sort ../kmer_rest/F12/sp_subA.sam > ../kmer_rest/F12/sp_subA.sort.sam\n",
    "samtools sort ../kmer_rest/F12/sp_subB.sam > ../kmer_rest/F12/sp_subB.sort.sam\n",
    "samtools sort ../kmer_rest/F12/sp_subCa.sam > ../kmer_rest/F12/sp_subCa.sort.sam\n",
    "samtools sort ../kmer_rest/F12/sp_subCb.sam > ../kmer_rest/F12/sp_subCb.sort.sam\n",
    "samtools sort ../kmer_rest/F12/hex_sp.sam > ../kmer_rest/F12/hex_sp.sort.sam\n",
    "samtools sort ../kmer_rest/F12/tetra_sp1.sam > ../kmer_rest/F12/tetra_sp1.sort.sam\n",
    "\n",
    "\"\"\""
   ]
  },
  {
   "cell_type": "code",
   "execution_count": null,
   "id": "ab80bf63-c69d-4ac1-8e8c-84717e5f568f",
   "metadata": {
    "tags": []
   },
   "outputs": [],
   "source": [
    "subprocess.run(cmd, shell=True)"
   ]
  },
  {
   "cell_type": "markdown",
   "id": "c38d7cdd-358f-4f5c-8ba2-025a8a5a4b6e",
   "metadata": {},
   "source": [
    "## Use bedtools to count kmers in each LTR"
   ]
  },
  {
   "cell_type": "code",
   "execution_count": null,
   "id": "23668789-811c-41b2-ab49-66f069c6861b",
   "metadata": {
    "tags": []
   },
   "outputs": [],
   "source": [
    "cmd = \"\"\"\n",
    "module load bedtools\n",
    "bedtools coverage -a ltr.bed -b ../kmer_rest/farr1/sp_subA.sort.sam > ../kmer_rest/farr1/sp_subA.coverage\n",
    "bedtools coverage -a ltr.bed -b ../kmer_rest/farr1/sp_subB.sort.sam > ../kmer_rest/farr1/sp_subB.coverage\n",
    "bedtools coverage -a ltr.bed -b ../kmer_rest/farr1/sp_subCa.sort.sam > ../kmer_rest/farr1/sp_subCa.coverage\n",
    "bedtools coverage -a ltr.bed -b ../kmer_rest/farr1/sp_subCb.sort.sam > ../kmer_rest/farr1/sp_subCb.coverage\n",
    "bedtools coverage -a ltr.bed -b ../kmer_rest/farr1/hex_sp.sort.sam > ../kmer_rest/farr1/hex_sp.coverage\n",
    "bedtools coverage -a ltr.bed -b ../kmer_rest/farr1/tetra_sp1.sort.sam > ../kmer_rest/farr1/tetra_sp1.coverage\n",
    "\n",
    "bedtools coverage -a Bea.bed -b ../kmer_rest/beauty/sp_subA.sort.sam > ../kmer_rest/beauty/sp_subA.coverage\n",
    "bedtools coverage -a Bea.bed -b ../kmer_rest/beauty/sp_subB.sort.sam > ../kmer_rest/beauty/sp_subB.coverage\n",
    "bedtools coverage -a Bea.bed -b ../kmer_rest/beauty/sp_subCa.sort.sam > ../kmer_rest/beauty/sp_subCa.coverage\n",
    "bedtools coverage -a Bea.bed -b ../kmer_rest/beauty/sp_subCb.sort.sam > ../kmer_rest/beauty/sp_subCb.coverage\n",
    "bedtools coverage -a Bea.bed -b ../kmer_rest/beauty/hex_sp.sort.sam > ../kmer_rest/beauty/hex_sp.coverage\n",
    "bedtools coverage -a Bea.bed -b ../kmer_rest/beauty/tetra_sp1.sort.sam > ../kmer_rest/beauty/tetra_sp1.coverage\n",
    "\n",
    "bedtools coverage -a F12.bed -b ../kmer_rest/F12/sp_subA.sort.sam > ../kmer_rest/F12/sp_subA.coverage\n",
    "bedtools coverage -a F12.bed -b ../kmer_rest/F12/sp_subB.sort.sam > ../kmer_rest/F12/sp_subB.coverage\n",
    "bedtools coverage -a F12.bed -b ../kmer_rest/F12/sp_subCa.sort.sam > ../kmer_rest/F12/sp_subCa.coverage\n",
    "bedtools coverage -a F12.bed -b ../kmer_rest/F12/sp_subCb.sort.sam > ../kmer_rest/F12/sp_subCb.coverage\n",
    "bedtools coverage -a F12.bed -b ../kmer_rest/F12/hex_sp.sort.sam > ../kmer_rest/F12/hex_sp.coverage\n",
    "bedtools coverage -a F12.bed -b ../kmer_rest/F12/tetra_sp1.sort.sam > ../kmer_rest/F12/tetra_sp1.coverage\n",
    "\n",
    "bedtools coverage -a Yanli.bed -b ../kmer_rest/yanli/sp_subA.sort.sam > ../kmer_rest/yanli/sp_subA.coverage\n",
    "bedtools coverage -a Yanli.bed -b ../kmer_rest/yanli/sp_subB.sort.sam > ../kmer_rest/yanli/sp_subB.coverage\n",
    "bedtools coverage -a Yanli.bed -b ../kmer_rest/yanli/sp_subCa.sort.sam > ../kmer_rest/yanli/sp_subCa.coverage\n",
    "bedtools coverage -a Yanli.bed -b ../kmer_rest/yanli/sp_subCb.sort.sam > ../kmer_rest/yanli/sp_subCb.coverage\n",
    "bedtools coverage -a Yanli.bed -b ../kmer_rest/yanli/hex_sp.sort.sam > ../kmer_rest/yanli/hex_sp.coverage\n",
    "bedtools coverage -a Yanli.bed -b ../kmer_rest/yanli/tetra_sp1.sort.sam > ../kmer_rest/yanli/tetra_sp1.coverage\n",
    "\n",
    "\n",
    "\"\"\""
   ]
  },
  {
   "cell_type": "code",
   "execution_count": null,
   "id": "fb520576-5725-4a32-8854-045adeea28ae",
   "metadata": {
    "tags": []
   },
   "outputs": [],
   "source": [
    "subprocess.run(cmd, shell=True)"
   ]
  },
  {
   "cell_type": "markdown",
   "id": "521c02f1-afea-4b76-8a8a-0261f571168d",
   "metadata": {},
   "source": [
    "## convert EDTA output to a bed file"
   ]
  },
  {
   "cell_type": "code",
   "execution_count": null,
   "id": "42afa099-bf60-4316-b819-69ec81a682a7",
   "metadata": {
    "tags": []
   },
   "outputs": [],
   "source": [
    "ltr = pd.read_csv(r\"Fvirg_hap1.fa.mod.pass.list\",delimiter=\"\\t\",header=None,skiprows=1)\n",
    "##extract chr, start and end\n",
    "pattern = r\"([^:]+):(\\d+)\\.\\.(\\d+)\"\n",
    "df_extracted = ltr.iloc[:,0].str.extract(pattern)\n",
    "df_extracted.columns=[\"chr\",\"start\",\"end\"]\n",
    "df_extracted[\"Insert_age\"] = ltr.iloc[:,-1]\n",
    "df_extracted = df_extracted[df_extracted.chr.notna()]\n",
    "df_extracted.to_csv('Fvirg_ltr.bed', sep = \"\\t\",quoting=None,index=None, header=False)"
   ]
  },
  {
   "cell_type": "code",
   "execution_count": null,
   "id": "a487ef5f-787e-4b80-9314-37d2f48d4329",
   "metadata": {
    "tags": []
   },
   "outputs": [],
   "source": [
    "ltr = pd.read_csv(r\"Fchil_hap1.fa.mod.pass.list\",delimiter=\"\\t\",header=None,skiprows=1)\n",
    "##extract chr, start and end\n",
    "pattern = r\"([^:]+):(\\d+)\\.\\.(\\d+)\"\n",
    "df_extracted = ltr.iloc[:,0].str.extract(pattern)\n",
    "df_extracted.columns=[\"chr\",\"start\",\"end\"]\n",
    "df_extracted[\"Insert_age\"] = ltr.iloc[:,-1]\n",
    "df_extracted = df_extracted[df_extracted.chr.notna()]\n",
    "df_extracted.to_csv('Fchil_ltr.bed', sep = \"\\t\",quoting=None,index=None, header=False)"
   ]
  },
  {
   "cell_type": "code",
   "execution_count": null,
   "id": "d24d2d14-1549-4ddb-abe1-8886dd111946",
   "metadata": {
    "tags": []
   },
   "outputs": [],
   "source": [
    "ltr = pd.read_csv(r\"Beauty.hap.fasta.mod.pass.list\",delimiter=\"\\t\",header=None,skiprows=1)\n",
    "##extract chr, start and end\n",
    "pattern = r\"([^:]+):(\\d+)\\.\\.(\\d+)\"\n",
    "df_extracted = ltr.iloc[:,0].str.extract(pattern)\n",
    "df_extracted.columns=[\"chr\",\"start\",\"end\"]\n",
    "df_extracted[\"Insert_age\"] = ltr.iloc[:,-1]\n",
    "df_extracted = df_extracted[df_extracted.chr.notna()]\n",
    "df_extracted.to_csv('Bea.bed', sep = \"\\t\",quoting=None,index=None, header=False)\n",
    "\n",
    "ltr = pd.read_csv(r\"F12.hap.fasta.mod.pass.list\",delimiter=\"\\t\",header=None,skiprows=1)\n",
    "##extract chr, start and end\n",
    "pattern = r\"([^:]+):(\\d+)\\.\\.(\\d+)\"\n",
    "df_extracted = ltr.iloc[:,0].str.extract(pattern)\n",
    "df_extracted.columns=[\"chr\",\"start\",\"end\"]\n",
    "df_extracted[\"Insert_age\"] = ltr.iloc[:,-1]\n",
    "df_extracted = df_extracted[df_extracted.chr.notna()]\n",
    "df_extracted.to_csv('F12.bed', sep = \"\\t\",quoting=None,index=None, header=False)\n",
    "\n",
    "ltr = pd.read_csv(r\"Yanli.phase1.fa.gz.mod.pass.list\",delimiter=\"\\t\",header=None,skiprows=1)\n",
    "##extract chr, start and end\n",
    "pattern = r\"([^:]+):(\\d+)\\.\\.(\\d+)\"\n",
    "df_extracted = ltr.iloc[:,0].str.extract(pattern)\n",
    "df_extracted.columns=[\"chr\",\"start\",\"end\"]\n",
    "df_extracted[\"Insert_age\"] = ltr.iloc[:,-1]\n",
    "df_extracted = df_extracted[df_extracted.chr.notna()]\n",
    "df_extracted.to_csv('Yanli.bed', sep = \"\\t\",quoting=None,index=None, header=False)"
   ]
  }
 ],
 "metadata": {
  "kernelspec": {
   "display_name": "UFRC Python-3.10",
   "language": "python",
   "name": "python3-3.10-ufrc"
  },
  "language_info": {
   "codemirror_mode": {
    "name": "ipython",
    "version": 3
   },
   "file_extension": ".py",
   "mimetype": "text/x-python",
   "name": "python",
   "nbconvert_exporter": "python",
   "pygments_lexer": "ipython3",
   "version": "3.10.8"
  }
 },
 "nbformat": 4,
 "nbformat_minor": 5
}
